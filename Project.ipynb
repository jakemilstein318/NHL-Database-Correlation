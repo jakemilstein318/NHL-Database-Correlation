{
 "cells": [
  {
   "cell_type": "code",
   "execution_count": 1,
   "metadata": {},
   "outputs": [],
   "source": [
    "import pandas as pd\n",
    "import seaborn as sb"
   ]
  },
  {
   "cell_type": "code",
   "execution_count": 2,
   "metadata": {
    "scrolled": true
   },
   "outputs": [
    {
     "data": {
      "text/html": [
       "<div>\n",
       "<style scoped>\n",
       "    .dataframe tbody tr th:only-of-type {\n",
       "        vertical-align: middle;\n",
       "    }\n",
       "\n",
       "    .dataframe tbody tr th {\n",
       "        vertical-align: top;\n",
       "    }\n",
       "\n",
       "    .dataframe thead th {\n",
       "        text-align: right;\n",
       "    }\n",
       "</style>\n",
       "<table border=\"1\" class=\"dataframe\">\n",
       "  <thead>\n",
       "    <tr style=\"text-align: right;\">\n",
       "      <th></th>\n",
       "      <th>Date</th>\n",
       "      <th>Opponent</th>\n",
       "      <th>Goals_For</th>\n",
       "      <th>Goals_Against</th>\n",
       "      <th>Shots_On_Goal</th>\n",
       "      <th>Result</th>\n",
       "    </tr>\n",
       "  </thead>\n",
       "  <tbody>\n",
       "    <tr>\n",
       "      <th>0</th>\n",
       "      <td>5/10/2017</td>\n",
       "      <td>Colorado Avalanche</td>\n",
       "      <td>2.0</td>\n",
       "      <td>3.0</td>\n",
       "      <td>22.0</td>\n",
       "      <td>L</td>\n",
       "    </tr>\n",
       "    <tr>\n",
       "      <th>1</th>\n",
       "      <td>10/8/2017</td>\n",
       "      <td>Montreal Canadiens</td>\n",
       "      <td>2.0</td>\n",
       "      <td>4.0</td>\n",
       "      <td>23.0</td>\n",
       "      <td>L</td>\n",
       "    </tr>\n",
       "    <tr>\n",
       "      <th>2</th>\n",
       "      <td>10/10/2017</td>\n",
       "      <td>St. Louis Blues</td>\n",
       "      <td>1.0</td>\n",
       "      <td>6.0</td>\n",
       "      <td>19.0</td>\n",
       "      <td>L</td>\n",
       "    </tr>\n",
       "    <tr>\n",
       "      <th>3</th>\n",
       "      <td>10/14/2017</td>\n",
       "      <td>New Jersey Devils</td>\n",
       "      <td>2.0</td>\n",
       "      <td>4.0</td>\n",
       "      <td>20.0</td>\n",
       "      <td>L</td>\n",
       "    </tr>\n",
       "    <tr>\n",
       "      <th>4</th>\n",
       "      <td>10/15/2017</td>\n",
       "      <td>Pittsburgh Penguins</td>\n",
       "      <td>4.0</td>\n",
       "      <td>1.0</td>\n",
       "      <td>28.0</td>\n",
       "      <td>W</td>\n",
       "    </tr>\n",
       "  </tbody>\n",
       "</table>\n",
       "</div>"
      ],
      "text/plain": [
       "         Date             Opponent  Goals_For  Goals_Against  Shots_On_Goal  \\\n",
       "0   5/10/2017   Colorado Avalanche        2.0            3.0           22.0   \n",
       "1   10/8/2017   Montreal Canadiens        2.0            4.0           23.0   \n",
       "2  10/10/2017      St. Louis Blues        1.0            6.0           19.0   \n",
       "3  10/14/2017    New Jersey Devils        2.0            4.0           20.0   \n",
       "4  10/15/2017  Pittsburgh Penguins        4.0            1.0           28.0   \n",
       "\n",
       "  Result  \n",
       "0      L  \n",
       "1      L  \n",
       "2      L  \n",
       "3      L  \n",
       "4      W  "
      ]
     },
     "execution_count": 2,
     "metadata": {},
     "output_type": "execute_result"
    }
   ],
   "source": [
    "df1=pd.read_csv('Rangers_Database.csv')\n",
    "df1.head()"
   ]
  },
  {
   "cell_type": "code",
   "execution_count": 3,
   "metadata": {},
   "outputs": [
    {
     "data": {
      "text/html": [
       "<div>\n",
       "<style scoped>\n",
       "    .dataframe tbody tr th:only-of-type {\n",
       "        vertical-align: middle;\n",
       "    }\n",
       "\n",
       "    .dataframe tbody tr th {\n",
       "        vertical-align: top;\n",
       "    }\n",
       "\n",
       "    .dataframe thead th {\n",
       "        text-align: right;\n",
       "    }\n",
       "</style>\n",
       "<table border=\"1\" class=\"dataframe\">\n",
       "  <thead>\n",
       "    <tr style=\"text-align: right;\">\n",
       "      <th></th>\n",
       "      <th>Date</th>\n",
       "      <th>Opponent</th>\n",
       "      <th>Goals_For</th>\n",
       "      <th>Goals_Against</th>\n",
       "      <th>Shots_On_Goal</th>\n",
       "      <th>Result</th>\n",
       "    </tr>\n",
       "  </thead>\n",
       "  <tbody>\n",
       "    <tr>\n",
       "      <th>0</th>\n",
       "      <td>5/10/2017</td>\n",
       "      <td>Colorado Avalanche</td>\n",
       "      <td>2.0</td>\n",
       "      <td>3.0</td>\n",
       "      <td>22.0</td>\n",
       "      <td>L</td>\n",
       "    </tr>\n",
       "    <tr>\n",
       "      <th>1</th>\n",
       "      <td>10/8/2017</td>\n",
       "      <td>Montreal Canadiens</td>\n",
       "      <td>2.0</td>\n",
       "      <td>4.0</td>\n",
       "      <td>23.0</td>\n",
       "      <td>L</td>\n",
       "    </tr>\n",
       "    <tr>\n",
       "      <th>2</th>\n",
       "      <td>10/10/2017</td>\n",
       "      <td>St. Louis Blues</td>\n",
       "      <td>1.0</td>\n",
       "      <td>6.0</td>\n",
       "      <td>19.0</td>\n",
       "      <td>L</td>\n",
       "    </tr>\n",
       "    <tr>\n",
       "      <th>3</th>\n",
       "      <td>10/14/2017</td>\n",
       "      <td>New Jersey Devils</td>\n",
       "      <td>2.0</td>\n",
       "      <td>4.0</td>\n",
       "      <td>20.0</td>\n",
       "      <td>L</td>\n",
       "    </tr>\n",
       "    <tr>\n",
       "      <th>4</th>\n",
       "      <td>10/15/2017</td>\n",
       "      <td>Pittsburgh Penguins</td>\n",
       "      <td>4.0</td>\n",
       "      <td>1.0</td>\n",
       "      <td>28.0</td>\n",
       "      <td>W</td>\n",
       "    </tr>\n",
       "  </tbody>\n",
       "</table>\n",
       "</div>"
      ],
      "text/plain": [
       "         Date             Opponent  Goals_For  Goals_Against  Shots_On_Goal  \\\n",
       "0   5/10/2017   Colorado Avalanche        2.0            3.0           22.0   \n",
       "1   10/8/2017   Montreal Canadiens        2.0            4.0           23.0   \n",
       "2  10/10/2017      St. Louis Blues        1.0            6.0           19.0   \n",
       "3  10/14/2017    New Jersey Devils        2.0            4.0           20.0   \n",
       "4  10/15/2017  Pittsburgh Penguins        4.0            1.0           28.0   \n",
       "\n",
       "  Result  \n",
       "0      L  \n",
       "1      L  \n",
       "2      L  \n",
       "3      L  \n",
       "4      W  "
      ]
     },
     "execution_count": 3,
     "metadata": {},
     "output_type": "execute_result"
    }
   ],
   "source": [
    "df1=pd.DataFrame(df1.dropna())\n",
    "df1.head()"
   ]
  },
  {
   "cell_type": "code",
   "execution_count": 4,
   "metadata": {},
   "outputs": [
    {
     "data": {
      "text/html": [
       "<div>\n",
       "<style scoped>\n",
       "    .dataframe tbody tr th:only-of-type {\n",
       "        vertical-align: middle;\n",
       "    }\n",
       "\n",
       "    .dataframe tbody tr th {\n",
       "        vertical-align: top;\n",
       "    }\n",
       "\n",
       "    .dataframe thead th {\n",
       "        text-align: right;\n",
       "    }\n",
       "</style>\n",
       "<table border=\"1\" class=\"dataframe\">\n",
       "  <thead>\n",
       "    <tr style=\"text-align: right;\">\n",
       "      <th></th>\n",
       "      <th>Date</th>\n",
       "      <th>Opponent</th>\n",
       "      <th>Goals_For</th>\n",
       "      <th>Goals_Against</th>\n",
       "      <th>Shots_On_Goal</th>\n",
       "      <th>Result</th>\n",
       "    </tr>\n",
       "  </thead>\n",
       "  <tbody>\n",
       "    <tr>\n",
       "      <th>0</th>\n",
       "      <td>2017-05-10 00:00:00</td>\n",
       "      <td>Colorado Avalanche</td>\n",
       "      <td>2.0</td>\n",
       "      <td>3.0</td>\n",
       "      <td>22.0</td>\n",
       "      <td>L</td>\n",
       "    </tr>\n",
       "    <tr>\n",
       "      <th>1</th>\n",
       "      <td>2017-10-08 00:00:00</td>\n",
       "      <td>Montreal Canadiens</td>\n",
       "      <td>2.0</td>\n",
       "      <td>4.0</td>\n",
       "      <td>23.0</td>\n",
       "      <td>L</td>\n",
       "    </tr>\n",
       "    <tr>\n",
       "      <th>2</th>\n",
       "      <td>2017-10-10 00:00:00</td>\n",
       "      <td>St. Louis Blues</td>\n",
       "      <td>1.0</td>\n",
       "      <td>6.0</td>\n",
       "      <td>19.0</td>\n",
       "      <td>L</td>\n",
       "    </tr>\n",
       "    <tr>\n",
       "      <th>3</th>\n",
       "      <td>2017-10-14 00:00:00</td>\n",
       "      <td>New Jersey Devils</td>\n",
       "      <td>2.0</td>\n",
       "      <td>4.0</td>\n",
       "      <td>20.0</td>\n",
       "      <td>L</td>\n",
       "    </tr>\n",
       "    <tr>\n",
       "      <th>4</th>\n",
       "      <td>2017-10-15 00:00:00</td>\n",
       "      <td>Pittsburgh Penguins</td>\n",
       "      <td>4.0</td>\n",
       "      <td>1.0</td>\n",
       "      <td>28.0</td>\n",
       "      <td>W</td>\n",
       "    </tr>\n",
       "  </tbody>\n",
       "</table>\n",
       "</div>"
      ],
      "text/plain": [
       "                  Date             Opponent  Goals_For  Goals_Against  \\\n",
       "0  2017-05-10 00:00:00   Colorado Avalanche        2.0            3.0   \n",
       "1  2017-10-08 00:00:00   Montreal Canadiens        2.0            4.0   \n",
       "2  2017-10-10 00:00:00      St. Louis Blues        1.0            6.0   \n",
       "3  2017-10-14 00:00:00    New Jersey Devils        2.0            4.0   \n",
       "4  2017-10-15 00:00:00  Pittsburgh Penguins        4.0            1.0   \n",
       "\n",
       "   Shots_On_Goal Result  \n",
       "0           22.0      L  \n",
       "1           23.0      L  \n",
       "2           19.0      L  \n",
       "3           20.0      L  \n",
       "4           28.0      W  "
      ]
     },
     "execution_count": 4,
     "metadata": {},
     "output_type": "execute_result"
    }
   ],
   "source": [
    "from datetime import datetime\n",
    "df1= pd.read_csv(\"Rangers_Database.csv\")\n",
    "for index, record in df1.iterrows():\n",
    "    strDate = record['Date']\n",
    "    strDate = datetime.strptime(strDate, '%m/%d/%Y')\n",
    "    df1.loc[index,'Date'] = strDate\n",
    "df1.head()"
   ]
  },
  {
   "cell_type": "code",
   "execution_count": 5,
   "metadata": {},
   "outputs": [
    {
     "data": {
      "text/html": [
       "<div>\n",
       "<style scoped>\n",
       "    .dataframe tbody tr th:only-of-type {\n",
       "        vertical-align: middle;\n",
       "    }\n",
       "\n",
       "    .dataframe tbody tr th {\n",
       "        vertical-align: top;\n",
       "    }\n",
       "\n",
       "    .dataframe thead th {\n",
       "        text-align: right;\n",
       "    }\n",
       "</style>\n",
       "<table border=\"1\" class=\"dataframe\">\n",
       "  <thead>\n",
       "    <tr style=\"text-align: right;\">\n",
       "      <th></th>\n",
       "      <th>Game_Date</th>\n",
       "      <th>Attendance</th>\n",
       "      <th>Vacant_Seats</th>\n",
       "      <th>Back_to_Back</th>\n",
       "    </tr>\n",
       "  </thead>\n",
       "  <tbody>\n",
       "    <tr>\n",
       "      <th>0</th>\n",
       "      <td>5-Oct-17</td>\n",
       "      <td>16321.0</td>\n",
       "      <td>4468.0</td>\n",
       "      <td>No</td>\n",
       "    </tr>\n",
       "    <tr>\n",
       "      <th>1</th>\n",
       "      <td>8-Oct-17</td>\n",
       "      <td>17356.0</td>\n",
       "      <td>3433.0</td>\n",
       "      <td>No</td>\n",
       "    </tr>\n",
       "    <tr>\n",
       "      <th>2</th>\n",
       "      <td>10-Oct-17</td>\n",
       "      <td>15384.0</td>\n",
       "      <td>5405.0</td>\n",
       "      <td>No</td>\n",
       "    </tr>\n",
       "    <tr>\n",
       "      <th>3</th>\n",
       "      <td>14-Oct-17</td>\n",
       "      <td>16012.0</td>\n",
       "      <td>4777.0</td>\n",
       "      <td>No</td>\n",
       "    </tr>\n",
       "    <tr>\n",
       "      <th>4</th>\n",
       "      <td>15-Oct-17</td>\n",
       "      <td>19521.0</td>\n",
       "      <td>1268.0</td>\n",
       "      <td>Yes</td>\n",
       "    </tr>\n",
       "  </tbody>\n",
       "</table>\n",
       "</div>"
      ],
      "text/plain": [
       "   Game_Date  Attendance  Vacant_Seats Back_to_Back\n",
       "0   5-Oct-17     16321.0        4468.0           No\n",
       "1   8-Oct-17     17356.0        3433.0           No\n",
       "2  10-Oct-17     15384.0        5405.0           No\n",
       "3  14-Oct-17     16012.0        4777.0           No\n",
       "4  15-Oct-17     19521.0        1268.0          Yes"
      ]
     },
     "execution_count": 5,
     "metadata": {},
     "output_type": "execute_result"
    }
   ],
   "source": [
    "df2=pd.read_csv('Rangers_Database2.csv')\n",
    "df2.head()\n"
   ]
  },
  {
   "cell_type": "code",
   "execution_count": 6,
   "metadata": {},
   "outputs": [
    {
     "data": {
      "text/html": [
       "<div>\n",
       "<style scoped>\n",
       "    .dataframe tbody tr th:only-of-type {\n",
       "        vertical-align: middle;\n",
       "    }\n",
       "\n",
       "    .dataframe tbody tr th {\n",
       "        vertical-align: top;\n",
       "    }\n",
       "\n",
       "    .dataframe thead th {\n",
       "        text-align: right;\n",
       "    }\n",
       "</style>\n",
       "<table border=\"1\" class=\"dataframe\">\n",
       "  <thead>\n",
       "    <tr style=\"text-align: right;\">\n",
       "      <th></th>\n",
       "      <th>Game_Date</th>\n",
       "      <th>Attendance</th>\n",
       "      <th>Vacant_Seats</th>\n",
       "      <th>Back_to_Back</th>\n",
       "    </tr>\n",
       "  </thead>\n",
       "  <tbody>\n",
       "    <tr>\n",
       "      <th>0</th>\n",
       "      <td>5-Oct-17</td>\n",
       "      <td>16321.0</td>\n",
       "      <td>4468.0</td>\n",
       "      <td>No</td>\n",
       "    </tr>\n",
       "    <tr>\n",
       "      <th>1</th>\n",
       "      <td>8-Oct-17</td>\n",
       "      <td>17356.0</td>\n",
       "      <td>3433.0</td>\n",
       "      <td>No</td>\n",
       "    </tr>\n",
       "    <tr>\n",
       "      <th>2</th>\n",
       "      <td>10-Oct-17</td>\n",
       "      <td>15384.0</td>\n",
       "      <td>5405.0</td>\n",
       "      <td>No</td>\n",
       "    </tr>\n",
       "    <tr>\n",
       "      <th>3</th>\n",
       "      <td>14-Oct-17</td>\n",
       "      <td>16012.0</td>\n",
       "      <td>4777.0</td>\n",
       "      <td>No</td>\n",
       "    </tr>\n",
       "    <tr>\n",
       "      <th>4</th>\n",
       "      <td>15-Oct-17</td>\n",
       "      <td>19521.0</td>\n",
       "      <td>1268.0</td>\n",
       "      <td>Yes</td>\n",
       "    </tr>\n",
       "  </tbody>\n",
       "</table>\n",
       "</div>"
      ],
      "text/plain": [
       "   Game_Date  Attendance  Vacant_Seats Back_to_Back\n",
       "0   5-Oct-17     16321.0        4468.0           No\n",
       "1   8-Oct-17     17356.0        3433.0           No\n",
       "2  10-Oct-17     15384.0        5405.0           No\n",
       "3  14-Oct-17     16012.0        4777.0           No\n",
       "4  15-Oct-17     19521.0        1268.0          Yes"
      ]
     },
     "execution_count": 6,
     "metadata": {},
     "output_type": "execute_result"
    }
   ],
   "source": [
    "df2=pd.DataFrame(df2.dropna())\n",
    "df2.head()"
   ]
  },
  {
   "cell_type": "code",
   "execution_count": 7,
   "metadata": {},
   "outputs": [
    {
     "name": "stdout",
     "output_type": "stream",
     "text": [
      "2018-01-04 00:00:00\n"
     ]
    },
    {
     "data": {
      "text/html": [
       "<div>\n",
       "<style scoped>\n",
       "    .dataframe tbody tr th:only-of-type {\n",
       "        vertical-align: middle;\n",
       "    }\n",
       "\n",
       "    .dataframe tbody tr th {\n",
       "        vertical-align: top;\n",
       "    }\n",
       "\n",
       "    .dataframe thead th {\n",
       "        text-align: right;\n",
       "    }\n",
       "</style>\n",
       "<table border=\"1\" class=\"dataframe\">\n",
       "  <thead>\n",
       "    <tr style=\"text-align: right;\">\n",
       "      <th></th>\n",
       "      <th>Game_Date</th>\n",
       "      <th>Attendance</th>\n",
       "      <th>Vacant_Seats</th>\n",
       "      <th>Back_to_Back</th>\n",
       "    </tr>\n",
       "  </thead>\n",
       "  <tbody>\n",
       "    <tr>\n",
       "      <th>0</th>\n",
       "      <td>2017-10-05 00:00:00</td>\n",
       "      <td>16321.0</td>\n",
       "      <td>4468.0</td>\n",
       "      <td>No</td>\n",
       "    </tr>\n",
       "    <tr>\n",
       "      <th>1</th>\n",
       "      <td>2017-10-08 00:00:00</td>\n",
       "      <td>17356.0</td>\n",
       "      <td>3433.0</td>\n",
       "      <td>No</td>\n",
       "    </tr>\n",
       "    <tr>\n",
       "      <th>2</th>\n",
       "      <td>2017-10-10 00:00:00</td>\n",
       "      <td>15384.0</td>\n",
       "      <td>5405.0</td>\n",
       "      <td>No</td>\n",
       "    </tr>\n",
       "    <tr>\n",
       "      <th>3</th>\n",
       "      <td>2017-10-14 00:00:00</td>\n",
       "      <td>16012.0</td>\n",
       "      <td>4777.0</td>\n",
       "      <td>No</td>\n",
       "    </tr>\n",
       "    <tr>\n",
       "      <th>4</th>\n",
       "      <td>2017-10-15 00:00:00</td>\n",
       "      <td>19521.0</td>\n",
       "      <td>1268.0</td>\n",
       "      <td>Yes</td>\n",
       "    </tr>\n",
       "  </tbody>\n",
       "</table>\n",
       "</div>"
      ],
      "text/plain": [
       "             Game_Date  Attendance  Vacant_Seats Back_to_Back\n",
       "0  2017-10-05 00:00:00     16321.0        4468.0           No\n",
       "1  2017-10-08 00:00:00     17356.0        3433.0           No\n",
       "2  2017-10-10 00:00:00     15384.0        5405.0           No\n",
       "3  2017-10-14 00:00:00     16012.0        4777.0           No\n",
       "4  2017-10-15 00:00:00     19521.0        1268.0          Yes"
      ]
     },
     "execution_count": 7,
     "metadata": {},
     "output_type": "execute_result"
    }
   ],
   "source": [
    "from datetime import datetime\n",
    "strDate = '4-Jan-18' \n",
    "print(datetime.strptime(strDate, '%d-%b-%y')) \n",
    "for index, record in df2.iterrows(): \n",
    "    strDate = record['Game_Date']\n",
    "    strDate = datetime.strptime(strDate, '%d-%b-%y') \n",
    "    df2.loc[index,'Game_Date'] = strDate \n",
    "df2.head()"
   ]
  },
  {
   "cell_type": "code",
   "execution_count": 8,
   "metadata": {},
   "outputs": [
    {
     "data": {
      "text/html": [
       "<div>\n",
       "<style scoped>\n",
       "    .dataframe tbody tr th:only-of-type {\n",
       "        vertical-align: middle;\n",
       "    }\n",
       "\n",
       "    .dataframe tbody tr th {\n",
       "        vertical-align: top;\n",
       "    }\n",
       "\n",
       "    .dataframe thead th {\n",
       "        text-align: right;\n",
       "    }\n",
       "</style>\n",
       "<table border=\"1\" class=\"dataframe\">\n",
       "  <thead>\n",
       "    <tr style=\"text-align: right;\">\n",
       "      <th></th>\n",
       "      <th>Date</th>\n",
       "      <th>Opponent</th>\n",
       "      <th>Goals_For</th>\n",
       "      <th>Goals_Against</th>\n",
       "      <th>Shots_On_Goal</th>\n",
       "      <th>Result</th>\n",
       "      <th>Game_Date</th>\n",
       "      <th>Attendance</th>\n",
       "      <th>Vacant_Seats</th>\n",
       "      <th>Back_to_Back</th>\n",
       "    </tr>\n",
       "  </thead>\n",
       "  <tbody>\n",
       "    <tr>\n",
       "      <th>0</th>\n",
       "      <td>2017-10-08 00:00:00</td>\n",
       "      <td>Montreal Canadiens</td>\n",
       "      <td>2.0</td>\n",
       "      <td>4.0</td>\n",
       "      <td>23.0</td>\n",
       "      <td>L</td>\n",
       "      <td>2017-10-08 00:00:00</td>\n",
       "      <td>17356.0</td>\n",
       "      <td>3433.0</td>\n",
       "      <td>No</td>\n",
       "    </tr>\n",
       "    <tr>\n",
       "      <th>1</th>\n",
       "      <td>2017-10-10 00:00:00</td>\n",
       "      <td>St. Louis Blues</td>\n",
       "      <td>1.0</td>\n",
       "      <td>6.0</td>\n",
       "      <td>19.0</td>\n",
       "      <td>L</td>\n",
       "      <td>2017-10-10 00:00:00</td>\n",
       "      <td>15384.0</td>\n",
       "      <td>5405.0</td>\n",
       "      <td>No</td>\n",
       "    </tr>\n",
       "    <tr>\n",
       "      <th>2</th>\n",
       "      <td>2017-10-14 00:00:00</td>\n",
       "      <td>New Jersey Devils</td>\n",
       "      <td>2.0</td>\n",
       "      <td>4.0</td>\n",
       "      <td>20.0</td>\n",
       "      <td>L</td>\n",
       "      <td>2017-10-14 00:00:00</td>\n",
       "      <td>16012.0</td>\n",
       "      <td>4777.0</td>\n",
       "      <td>No</td>\n",
       "    </tr>\n",
       "    <tr>\n",
       "      <th>3</th>\n",
       "      <td>2017-10-15 00:00:00</td>\n",
       "      <td>Pittsburgh Penguins</td>\n",
       "      <td>4.0</td>\n",
       "      <td>1.0</td>\n",
       "      <td>28.0</td>\n",
       "      <td>W</td>\n",
       "      <td>2017-10-15 00:00:00</td>\n",
       "      <td>19521.0</td>\n",
       "      <td>1268.0</td>\n",
       "      <td>Yes</td>\n",
       "    </tr>\n",
       "    <tr>\n",
       "      <th>4</th>\n",
       "      <td>2017-10-19 00:00:00</td>\n",
       "      <td>New York Islanders</td>\n",
       "      <td>3.0</td>\n",
       "      <td>4.0</td>\n",
       "      <td>24.0</td>\n",
       "      <td>L</td>\n",
       "      <td>2017-10-19 00:00:00</td>\n",
       "      <td>17850.0</td>\n",
       "      <td>2939.0</td>\n",
       "      <td>No</td>\n",
       "    </tr>\n",
       "  </tbody>\n",
       "</table>\n",
       "</div>"
      ],
      "text/plain": [
       "                  Date             Opponent  Goals_For  Goals_Against  \\\n",
       "0  2017-10-08 00:00:00   Montreal Canadiens        2.0            4.0   \n",
       "1  2017-10-10 00:00:00      St. Louis Blues        1.0            6.0   \n",
       "2  2017-10-14 00:00:00    New Jersey Devils        2.0            4.0   \n",
       "3  2017-10-15 00:00:00  Pittsburgh Penguins        4.0            1.0   \n",
       "4  2017-10-19 00:00:00   New York Islanders        3.0            4.0   \n",
       "\n",
       "   Shots_On_Goal Result            Game_Date  Attendance  Vacant_Seats  \\\n",
       "0           23.0      L  2017-10-08 00:00:00     17356.0        3433.0   \n",
       "1           19.0      L  2017-10-10 00:00:00     15384.0        5405.0   \n",
       "2           20.0      L  2017-10-14 00:00:00     16012.0        4777.0   \n",
       "3           28.0      W  2017-10-15 00:00:00     19521.0        1268.0   \n",
       "4           24.0      L  2017-10-19 00:00:00     17850.0        2939.0   \n",
       "\n",
       "  Back_to_Back  \n",
       "0           No  \n",
       "1           No  \n",
       "2           No  \n",
       "3          Yes  \n",
       "4           No  "
      ]
     },
     "execution_count": 8,
     "metadata": {},
     "output_type": "execute_result"
    }
   ],
   "source": [
    "combine=pd.merge(df1,df2, left_on= \"Date\", right_on=\"Game_Date\")\n",
    "combine.head()"
   ]
  },
  {
   "cell_type": "code",
   "execution_count": 9,
   "metadata": {},
   "outputs": [
    {
     "data": {
      "text/plain": [
       "<seaborn.axisgrid.FacetGrid at 0x7ffdacc8b5c0>"
      ]
     },
     "execution_count": 9,
     "metadata": {},
     "output_type": "execute_result"
    },
    {
     "data": {
      "image/png": "[encoded data removed]",
      "text/plain": [
       "<Figure size 360x360 with 1 Axes>"
      ]
     },
     "metadata": {},
     "output_type": "display_data"
    }
   ],
   "source": [
    "sb.set(style='darkgrid')\n",
    "sb.lmplot(x='Goals_For', y='Attendance',data=combine)"
   ]
  },
  {
   "cell_type": "code",
   "execution_count": 10,
   "metadata": {},
   "outputs": [
    {
     "data": {
      "text/plain": [
       "<seaborn.axisgrid.FacetGrid at 0x7ffdb080fcc0>"
      ]
     },
     "execution_count": 10,
     "metadata": {},
     "output_type": "execute_result"
    },
    {
     "data": {
      "image/png": "[encoded data removed]",
      "text/plain": [
       "<Figure size 409.975x360 with 1 Axes>"
      ]
     },
     "metadata": {},
     "output_type": "display_data"
    }
   ],
   "source": [
    "sb.set(style='darkgrid')\n",
    "sb.lmplot(x='Goals_For', y='Attendance', hue=\"Result\",data=combine)"
   ]
  },
  {
   "cell_type": "code",
   "execution_count": 11,
   "metadata": {},
   "outputs": [
    {
     "data": {
      "text/plain": [
       "<seaborn.axisgrid.FacetGrid at 0x7ffdafe731d0>"
      ]
     },
     "execution_count": 11,
     "metadata": {},
     "output_type": "execute_result"
    },
    {
     "data": {
      "image/png": "[encoded data removed]",
      "text/plain": [
       "<Figure size 360x360 with 1 Axes>"
      ]
     },
     "metadata": {},
     "output_type": "display_data"
    }
   ],
   "source": [
    "sb.set(style='darkgrid')\n",
    "sb.lmplot(x='Shots_On_Goal', y='Attendance',data=combine)"
   ]
  },
  {
   "cell_type": "code",
   "execution_count": 12,
   "metadata": {
    "scrolled": true
   },
   "outputs": [
    {
     "data": {
      "text/plain": [
       "<seaborn.axisgrid.FacetGrid at 0x7ffdb0abea58>"
      ]
     },
     "execution_count": 12,
     "metadata": {},
     "output_type": "execute_result"
    },
    {
     "data": {
      "image/png": "[encoded data removed]",
      "text/plain": [
       "<Figure size 360x360 with 1 Axes>"
      ]
     },
     "metadata": {},
     "output_type": "display_data"
    }
   ],
   "source": [
    "sb.set(style='darkgrid')\n",
    "sb.lmplot(x='Goals_Against', y='Attendance',data=combine)"
   ]
  }
 ],
 "metadata": {
  "kernelspec": {
   "display_name": "Python 3",
   "language": "python",
   "name": "python3"
  },
  "language_info": {
   "codemirror_mode": {
    "name": "ipython",
    "version": 3
   },
   "file_extension": ".py",
   "mimetype": "text/x-python",
   "name": "python",
   "nbconvert_exporter": "python",
   "pygments_lexer": "ipython3",
   "version": "3.7.1"
  }
 },
 "nbformat": 4,
 "nbformat_minor": 2
}
